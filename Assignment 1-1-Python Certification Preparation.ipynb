{
 "cells": [
  {
   "cell_type": "code",
   "execution_count": null,
   "id": "04404069",
   "metadata": {},
   "outputs": [],
   "source": [
    "# Find and read 20 interview questions for Data Types, Operators, Conditional Statements, Looping Statements, Functions."
   ]
  },
  {
   "cell_type": "code",
   "execution_count": null,
   "id": "17682cb4",
   "metadata": {},
   "outputs": [],
   "source": [
    "# Data Types:\n",
    "# 1.What are the built-in data types in Python?\n",
    "# 2.Explain the difference between mutable and immutable data types in Python.\n",
    "# 3.What are the numeric data types in Python, and how are they different?\n",
    "# 4.How can you convert one data type to another in Python?\n",
    "# 5.What is typecasting, and how can you perform it in Python?\n",
    "# 6.What are the main string methods in Python?\n",
    "# 7.What are tuples, and how are they different from lists?\n",
    "\n",
    "# Operators:\n",
    "# 1.Explain the difference between \"==\" and \"is\" operators in Python.\n",
    "# 2.How does the \"and\" operator work in Python?\n",
    "# 3.What is operator overloading, and how is it used in Python?\n",
    "# 4.Explain the purpose of the \"in\" and \"not in\" operators in Python.\n",
    "# 5.How can you use the ternary operator in Python?\n",
    "# 6.What is the purpose of the \"is\" operator in Python?\n",
    "# 7.What is the difference between \"==\" and \"!=\" operators?\n",
    "\n",
    "# Conditional Statements:\n",
    "# 1.What are the three types of conditional statements in Python?\n",
    "# 2.Explain the \"if-elif-else\" statement in Python.\n",
    "# 3.How do you write a nested if statement in Python?\n",
    "# 4.What is the purpose of the \"pass\" statement in Python?\n",
    "# 5.How do you use the \"assert\" statement in Python?\n",
    "# 6.Explain the difference between \"if\" and \"while\" loops in Python.\n",
    " \n",
    "# Looping Statements:\n",
    "# 1.What is the purpose of the \"for\" loop in Python?\n",
    "# 2.Explain how the \"range()\" function works in \"for\" loops.\n",
    "# 3.How do you use \"break\" and \"continue\" statements in loops?\n",
    "# 4.What is an infinite loop, and how can it be avoided?\n",
    "# 5.What is the \"else\" block in a \"for\" or \"while\" loop used for?\n",
    "# 6.How do you iterate through a dictionary using loops in Python?\n",
    "\n",
    "# Functions:\n",
    "# 1.What is a function in Python, and why is it used?\n",
    "# 2.Explain the difference between parameters and arguments in a function.\n",
    "# 3.What is the purpose of the \"return\" statement in a function?\n",
    "# 4.How can you define a default argument in a Python function?\n",
    "# 5.What is a lambda function, and how is it defined?\n",
    "# 6.What is recursion, and how is it implemented in Python functions?\n",
    "# 7.How do you use the \"global\" keyword in a function?\n",
    "# 8.Explain the concept of function decorators in Python."
   ]
  }
 ],
 "metadata": {
  "kernelspec": {
   "display_name": "Python 3 (ipykernel)",
   "language": "python",
   "name": "python3"
  },
  "language_info": {
   "codemirror_mode": {
    "name": "ipython",
    "version": 3
   },
   "file_extension": ".py",
   "mimetype": "text/x-python",
   "name": "python",
   "nbconvert_exporter": "python",
   "pygments_lexer": "ipython3",
   "version": "3.11.3"
  }
 },
 "nbformat": 4,
 "nbformat_minor": 5
}
